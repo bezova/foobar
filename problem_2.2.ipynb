{
 "cells": [
  {
   "cell_type": "code",
   "execution_count": 40,
   "metadata": {},
   "outputs": [],
   "source": [
    "def solution(pws):\n",
    "    if len(pws)==1: return str(pws[0])\n",
    "    result = 1\n",
    "    countZero = 0\n",
    "    countNeg = 0\n",
    "    maxNeg = -float('inf') #-2000 by rules abs(x)<1000\n",
    "    for x in pws:\n",
    "        if x==0: \n",
    "            countZero += 1\n",
    "        else:\n",
    "            if x<0: \n",
    "                countNeg +=1\n",
    "                if x > maxNeg: maxNeg = x\n",
    "            result *= x\n",
    "    if (countZero==len(pws)) or (countNeg==1 and (countZero==(len(pws)-1)) ): return str(0)\n",
    "    if result <0: return str(int(result/maxNeg))\n",
    "    return str(int(result))\n",
    "    "
   ]
  },
  {
   "cell_type": "code",
   "execution_count": 41,
   "metadata": {},
   "outputs": [
    {
     "data": {
      "text/plain": [
       "0"
      ]
     },
     "execution_count": 41,
     "metadata": {},
     "output_type": "execute_result"
    }
   ],
   "source": [
    "#format: [([powers,..], answer), ...]\n",
    "testLists = [\n",
    "([2,-3,1,0,-5], '30'),    \n",
    "([2,0,2,2,0], '8'),\n",
    "([-2,-3,4,-5], '60'),\n",
    "([-1,2], '2'),\n",
    "([-1], '-1'),\n",
    "([-2,-3,-4,0], '12'),\n",
    "([0], '0'),\n",
    "([-1,0], '0'),\n",
    "([0,0,0,-1], '0'),\n",
    "([0,-1,0,-1], '1')\n",
    "]\n",
    "#count errors in test set\n",
    "sum([solution(pws)!=answ for pws, answ in testLists])"
   ]
  },
  {
   "cell_type": "code",
   "execution_count": 33,
   "metadata": {
    "collapsed": true
   },
   "outputs": [
    {
     "data": {
      "text/plain": [
       "[(30, 30),\n",
       " (8, 8),\n",
       " (60, 60),\n",
       " (2, 2),\n",
       " (-1, -1),\n",
       " (12, 12),\n",
       " (0, 0),\n",
       " (0, 0),\n",
       " (0, 0),\n",
       " (1, 1)]"
      ]
     },
     "execution_count": 33,
     "metadata": {},
     "output_type": "execute_result"
    }
   ],
   "source": [
    "[(solution(pws), answ) for pws, answ in testLists]"
   ]
  },
  {
   "cell_type": "markdown",
   "metadata": {},
   "source": [
    "## Idea"
   ]
  },
  {
   "cell_type": "markdown",
   "metadata": {},
   "source": [
    "0. if len==0: return only value\n",
    "1. go through list\n",
    "2. if 0: count, if nonzero: mulitply\n",
    "3. if it was negative, count and remember the largest (we will divide by it if the answer is negative\n",
    "4. special cases:\n",
    "- if countZero==len: return 0\n",
    "- if answer<0 and countZero=len-1: return 0"
   ]
  },
  {
   "cell_type": "markdown",
   "metadata": {},
   "source": [
    "## * description *"
   ]
  },
  {
   "cell_type": "raw",
   "metadata": {},
   "source": [
    "\n",
    "\n",
    "The latest gossip in the henchman breakroom is that \"LAMBCHOP\" stands for \"Lambda's Anti-Matter Biofuel Collision Hadron Oxidating Potentiator\". You're pretty sure it runs on diesel, not biofuel, but you can at least give the commander credit for trying.\n",
    "\n",
    "New challenge \"Power Hungry\" added to your home folder.\n",
    "\n",
    "Time to solve: 72 hours.\n",
    "\n",
    "===============\n",
    "Power Hungry\n",
    "============\n",
    "\n",
    "\n",
    "Commander Lambda's space station is HUGE. And huge space stations take a LOT of power. Huge space stations with doomsday devices take even more power. To help meet the station's power needs, Commander Lambda has installed solar panels on the station's outer surface. But the station sits in the middle of a quasar quantum flux field, which wreaks havoc on the solar panels. You and your team of henchmen have been assigned to repair the solar panels, but you'd rather not take down all of the panels at once if you can help it, since they do help power the space station and all!\n",
    "\n",
    "\n",
    "\n",
    "You need to figure out which sets of panels in any given array you can take offline to repair while still maintaining the maximum amount of power output per array, and to do THAT, you'll first need to figure out what the maximum output of each array actually is. Write a function solution(xs) that takes a list of integers representing the power output levels of each panel in an array, and returns the maximum product of some non-empty subset of those numbers. So for example, if an array contained panels with power output levels of [2, -3, 1, 0, -5], then the maximum product would be found by taking the subset: xs[0] = 2, xs[1] = -3, xs[4] = -5, giving the product 2*(-3)*(-5) = 30. So solution([2,-3,1,0,-5]) will be \"30\".\n",
    "\n",
    "\n",
    "\n",
    "Each array of solar panels contains at least 1 and no more than 50 panels, and each panel will have a power output level whose absolute value is no greater than 1000 (some panels are malfunctioning so badly that they're draining energy, but you know a trick with the panels' wave stabilizer that lets you combine two negative-output panels to produce the positive output of the multiple of their power values). The final products may be very large, so give the solution as a string representation of the number.\n",
    "\n",
    "Test cases\n",
    "==========\n",
    "Your code should pass the following test cases.\n",
    "Note that it may also be run against hidden test cases not shown here.\n",
    "\n",
    "-- Python cases -- \n",
    "Input:\n",
    "solution.solution([2, 0, 2, 2, 0])\n",
    "Output:\n",
    "    8\n",
    "\n",
    "Input:\n",
    "solution.solution([-2, -3, 4, -5])\n",
    "Output:\n",
    "    60\n",
    "\n"
   ]
  },
  {
   "cell_type": "code",
   "execution_count": null,
   "metadata": {},
   "outputs": [],
   "source": []
  }
 ],
 "metadata": {
  "kernelspec": {
   "display_name": "Python 2",
   "language": "python",
   "name": "python2"
  },
  "language_info": {
   "codemirror_mode": {
    "name": "ipython",
    "version": 2
   },
   "file_extension": ".py",
   "mimetype": "text/x-python",
   "name": "python",
   "nbconvert_exporter": "python",
   "pygments_lexer": "ipython2",
   "version": "2.7.13"
  }
 },
 "nbformat": 4,
 "nbformat_minor": 2
}
