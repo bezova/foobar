{
 "cells": [
  {
   "cell_type": "markdown",
   "metadata": {},
   "source": [
    "## Problem 3.2"
   ]
  },
  {
   "cell_type": "code",
   "execution_count": 41,
   "metadata": {},
   "outputs": [],
   "source": [
    "def steps_down(x):\n",
    "    '''divide by 2 down intill devisible'''\n",
    "    steps = 0\n",
    "    while (x%2)==0:\n",
    "        x /= 2\n",
    "        steps += 1\n",
    "    return x, steps\n",
    "# test it\n",
    "# map(steps_down, [1,2,4,5,6,8,16])\n",
    "# -> [(1, 0), (1, 1), (3, 0), (1, 2), (5, 0), (3, 1), (1, 3), (1, 4)]"
   ]
  },
  {
   "cell_type": "code",
   "execution_count": 74,
   "metadata": {},
   "outputs": [
    {
     "data": {
      "text/plain": [
       "[(1, 0), (1, 1), (1, 2), (5, 0), (3, 1), (1, 3), (1, 4)]"
      ]
     },
     "execution_count": 74,
     "metadata": {},
     "output_type": "execute_result"
    }
   ],
   "source": [
    "map(steps_down, [1,2,4,5,6,8,16])"
   ]
  },
  {
   "cell_type": "code",
   "execution_count": 72,
   "metadata": {},
   "outputs": [
    {
     "data": {
      "text/plain": [
       "123456789101112131415161718192021222324252627282930313233343536373839404142434445464748495051525354555657585960616263646566676869707172737475767778798081828384858687888990919293949596979899L"
      ]
     },
     "execution_count": 72,
     "metadata": {},
     "output_type": "execute_result"
    }
   ],
   "source": [
    "int(''.join(map(str, range(100))))"
   ]
  },
  {
   "cell_type": "code",
   "execution_count": 71,
   "metadata": {},
   "outputs": [
    {
     "name": "stdout",
     "output_type": "stream",
     "text": [
      "CPU times: user 1.92 ms, sys: 402 µs, total: 2.32 ms\n",
      "Wall time: 2 ms\n"
     ]
    },
    {
     "data": {
      "text/plain": [
       "831"
      ]
     },
     "execution_count": 71,
     "metadata": {},
     "output_type": "execute_result"
    }
   ],
   "source": [
    "%time solution(''.join(map(str, range(100))))"
   ]
  },
  {
   "cell_type": "code",
   "execution_count": 68,
   "metadata": {},
   "outputs": [],
   "source": [
    "def solution(n):\n",
    "    '''\n",
    "    bfs or dfs: are too long for huge numbers:\n",
    "    try: hungry algorithm:\n",
    "    1. step down by 2 while can,\n",
    "    2. if stopped on n, compare stepping down from n+1 and n-1\n",
    "    3. choose the path that is resulted in smaller number\n",
    "    4 repeat untill reached 1\n",
    "    '''\n",
    "    n = int(n)\n",
    "    steps = 0\n",
    "    while n>1:\n",
    "        if n%2==0:\n",
    "            n, st = steps_down(n)\n",
    "            steps +=st\n",
    "        else:\n",
    "            steps += 1\n",
    "            nPlus, stPlus = steps_down(n+1)\n",
    "            nMinus, stMinus = steps_down(n-1)\n",
    "            if nPlus < nMinus:\n",
    "                steps += stPlus\n",
    "                n = nPlus\n",
    "            else:\n",
    "                steps += stMinus\n",
    "                n = nMinus\n",
    "    return steps"
   ]
  },
  {
   "cell_type": "code",
   "execution_count": 69,
   "metadata": {},
   "outputs": [],
   "source": [
    "def test():\n",
    "    #format [(n, answ), ...]\n",
    "    testLists = [\n",
    "        ('1', 0),\n",
    "        ('2', 1),\n",
    "        ('3', 2),\n",
    "        ('4', 2),\n",
    "        ('5', 3),\n",
    "        ('6', 3),\n",
    "        ('15', 5),\n",
    "        ('43', 8),\n",
    "        ('47', 7)\n",
    "    ]\n",
    "    #testing\n",
    "    for n, right in testLists:\n",
    "        answ = solution(n)\n",
    "        if answ!=right: print \"error: sol({})->{}, not {}\".format(n, answ, right)\n",
    "            "
   ]
  },
  {
   "cell_type": "code",
   "execution_count": 70,
   "metadata": {},
   "outputs": [],
   "source": [
    "test()"
   ]
  },
  {
   "cell_type": "markdown",
   "metadata": {},
   "source": [
    "## Idea"
   ]
  },
  {
   "cell_type": "markdown",
   "metadata": {},
   "source": []
  },
  {
   "cell_type": "markdown",
   "metadata": {},
   "source": [
    "## * description *"
   ]
  },
  {
   "cell_type": "raw",
   "metadata": {},
   "source": [
    "Fuel Injection Perfection\n",
    "=========================\n",
    "\n",
    "\n",
    "Commander Lambda has asked for your help to refine the automatic quantum antimatter fuel injection system for her LAMBCHOP doomsday device. It's a great chance for you to get a closer look at the LAMBCHOP - and maybe sneak in a bit of sabotage while you're at it - so you took the job gladly.\n",
    "\n",
    "\n",
    "\n",
    "Quantum antimatter fuel comes in small pellets, which is convenient since the many moving parts of the LAMBCHOP each need to be fed fuel one pellet at a time. However, minions dump pellets in bulk into the fuel intake. You need to figure out the most efficient way to sort and shift the pellets down to a single pellet at a time.\n",
    "\n",
    "\n",
    "\n",
    "The fuel control mechanisms have three operations:\n",
    "\n",
    "\n",
    "\n",
    "1) Add one fuel pellet\n",
    "\n",
    "2) Remove one fuel pellet\n",
    "\n",
    "3) Divide the entire group of fuel pellets by 2 (due to the destructive energy released when a quantum antimatter pellet is cut in half, the safety controls will only allow this to happen if there is an even number of pellets)\n",
    "\n",
    "\n",
    "\n",
    "Write a function called solution(n) which takes a positive integer as a string and returns the minimum number of operations needed to transform the number of pellets to 1. The fuel intake control panel can only display a number up to 309 digits long, so there won't ever be more pellets than you can express in that many digits.\n",
    "\n",
    "\n",
    "\n",
    "For example:\n",
    "\n",
    "solution(4) returns 2: 4 -> 2 -> 1\n",
    "\n",
    "solution(15) returns 5: 15 -> 16 -> 8 -> 4 -> 2 -> 1\n",
    "\n",
    "\n",
    "Languages\n",
    "=========\n",
    "\n",
    "\n",
    "To provide a Python solution, edit solution.py\n",
    "To provide a Java solution, edit Solution.java\n",
    "\n",
    "\n",
    "Test cases\n",
    "==========\n",
    "Your code should pass the following test cases.\n",
    "Note that it may also be run against hidden test cases not shown here.\n",
    "\n",
    "\n",
    "-- Python cases -- \n",
    "Input:\n",
    "solution.solution('15')\n",
    "Output:\n",
    "    5\n",
    "\n",
    "\n",
    "Input:\n",
    "solution.solution('4')\n",
    "Output:\n",
    "    2\n",
    "-------------\n",
    "\n",
    "Who the heck puts clover and coffee creamer in their tea? Commander Lambda, apparently. When you signed up to infiltrate her organization, you didn't think you'd get such an up-close and personal look at her more... unusual tastes.\n",
    "New challenge \"Fuel Injection Perfection\" added to your home folder.\n",
    "Time to solve: 96 hours."
   ]
  },
  {
   "cell_type": "code",
   "execution_count": null,
   "metadata": {},
   "outputs": [],
   "source": []
  }
 ],
 "metadata": {
  "kernelspec": {
   "display_name": "Python 2",
   "language": "python",
   "name": "python2"
  },
  "language_info": {
   "codemirror_mode": {
    "name": "ipython",
    "version": 2
   },
   "file_extension": ".py",
   "mimetype": "text/x-python",
   "name": "python",
   "nbconvert_exporter": "python",
   "pygments_lexer": "ipython2",
   "version": "2.7.13"
  }
 },
 "nbformat": 4,
 "nbformat_minor": 2
}
