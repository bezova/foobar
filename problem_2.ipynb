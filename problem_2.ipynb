{
 "cells": [
  {
   "cell_type": "code",
   "execution_count": 8,
   "metadata": {},
   "outputs": [
    {
     "data": {
      "text/plain": [
       "[[0, 1, 2, 3, 4, 5, 6, 7],\n",
       " [8, 9, 10, 11, 12, 13, 14, 15],\n",
       " [16, 17, 18, 19, 20, 21, 22, 23],\n",
       " [24, 25, 26, 27, 28, 29, 30, 31],\n",
       " [32, 33, 34, 35, 36, 37, 38, 39],\n",
       " [40, 41, 42, 43, 44, 45, 46, 47],\n",
       " [48, 49, 50, 51, 52, 53, 54, 55],\n",
       " [56, 57, 58, 59, 60, 61, 62, 63]]"
      ]
     },
     "execution_count": 8,
     "metadata": {},
     "output_type": "execute_result"
    }
   ],
   "source": [
    "board = list(map(list, zip(*[iter(range(64))]*8)))\n",
    "board"
   ]
  },
  {
   "cell_type": "code",
   "execution_count": 51,
   "metadata": {},
   "outputs": [
    {
     "data": {
      "text/plain": [
       "[26, 28, 58, 60, 33, 49, 37, 53]"
      ]
     },
     "execution_count": 51,
     "metadata": {},
     "output_type": "execute_result"
    }
   ],
   "source": [
    "knight_moves(43)"
   ]
  },
  {
   "cell_type": "code",
   "execution_count": 33,
   "metadata": {},
   "outputs": [
    {
     "data": {
      "text/plain": [
       "((0, 0), 19)"
      ]
     },
     "execution_count": 33,
     "metadata": {},
     "output_type": "execute_result"
    }
   ],
   "source": [
    "n_2_coords(0), coords_2_n(2,3)"
   ]
  },
  {
   "cell_type": "code",
   "execution_count": 74,
   "metadata": {},
   "outputs": [],
   "source": [
    "def solution(start, stop):\n",
    "    def n_2_coords(n): return (n//8, n%8) # (y,x)\n",
    "    \n",
    "    def coords_2_n(*coords): return coords[0]*8 + coords[1]\n",
    "    \n",
    "    def knight_moves(n):\n",
    "        '''coord = y, x\n",
    "        possible movess on the 8x8 board'''\n",
    "        y, x = n_2_coords(n)\n",
    "        moves = []\n",
    "        #up\n",
    "        if y>1:\n",
    "            #left\n",
    "            if x>0: moves.append(coords_2_n(y-2, x-1))\n",
    "            #right\n",
    "            if x<7: moves.append(coords_2_n(y-2, x+1))\n",
    "        # down\n",
    "        if y<6:\n",
    "            #left\n",
    "            if x>0: moves.append(coords_2_n(y+2, x-1))\n",
    "            #right\n",
    "            if x<7: moves.append(coords_2_n(y+2, x+1))\n",
    "        # left\n",
    "        if x>1:\n",
    "            #up\n",
    "            if y>0: moves.append(coords_2_n(y-1, x-2))\n",
    "            #down\n",
    "            if y<7: moves.append(coords_2_n(y+1, x-2))\n",
    "        # right\n",
    "        if x<6:\n",
    "            #up\n",
    "            if y>0: moves.append(coords_2_n(y-1, x+2))\n",
    "            #down\n",
    "            if y<7: moves.append(coords_2_n(y+1, x+2))\n",
    "        return moves\n",
    "\n",
    "    def BFS_stop(adj, start,  stop):\n",
    "        curLevel = 0\n",
    "        curList = [start]\n",
    "        distance = dict([(start,0)])\n",
    "        while curList:\n",
    "            curLevel+=1\n",
    "            nextList = []\n",
    "            for v in curList:\n",
    "                for vNext in adj(v):\n",
    "                    if vNext not in distance: \n",
    "                        distance[vNext]=curLevel\n",
    "                        if vNext==stop: return distance[stop]\n",
    "                        nextList.append(vNext)\n",
    "            curList = nextList\n",
    "        return distance[stop]\n",
    "    return BFS_stop(knight_moves, start, stop)"
   ]
  },
  {
   "cell_type": "code",
   "execution_count": 65,
   "metadata": {},
   "outputs": [
    {
     "data": {
      "text/plain": [
       "[25, 27, 0, 16, 4, 20]"
      ]
     },
     "execution_count": 65,
     "metadata": {},
     "output_type": "execute_result"
    }
   ],
   "source": [
    "knight_moves(10)"
   ]
  },
  {
   "cell_type": "code",
   "execution_count": 73,
   "metadata": {},
   "outputs": [
    {
     "data": {
      "text/plain": [
       "2"
      ]
     },
     "execution_count": 73,
     "metadata": {},
     "output_type": "execute_result"
    }
   ],
   "source": [
    "BFS_stop(knight_moves, 34, 27)"
   ]
  },
  {
   "cell_type": "code",
   "execution_count": 83,
   "metadata": {},
   "outputs": [
    {
     "data": {
      "text/plain": [
       "6"
      ]
     },
     "execution_count": 83,
     "metadata": {},
     "output_type": "execute_result"
    }
   ],
   "source": [
    "solution(0,63)"
   ]
  },
  {
   "cell_type": "code",
   "execution_count": null,
   "metadata": {},
   "outputs": [],
   "source": []
  },
  {
   "cell_type": "code",
   "execution_count": null,
   "metadata": {},
   "outputs": [],
   "source": []
  },
  {
   "cell_type": "markdown",
   "metadata": {},
   "source": [
    "Rumor has it the prison guards are inexplicably fond of bananas. You're an apple person yourself, but you file the information away for future reference. You never know when you might need to bribe a guard (or three)…\n",
    "\n",
    "\n",
    "New challenge \"Don't Get Volunteered!\" added to your home folder.\n",
    "Time to solve: 72 hours.\n",
    "\n",
    "\n",
    "Don't Get Volunteered!\n",
    "======================\n",
    "\n",
    "\n",
    "As a henchman on Commander Lambda's space station, you're expected to be resourceful, smart, and a quick thinker. It's not easy building a doomsday device and capturing bunnies at the same time, after all! In order to make sure that everyone working for her is sufficiently quick-witted, Commander Lambda has installed new flooring outside the henchman dormitories. It looks like a chessboard, and every morning and evening you have to solve a new movement puzzle in order to cross the floor. That would be fine if you got to be the rook or the queen, but instead, you have to be the knight. Worse, if you take too much time solving the puzzle, you get \"volunteered\" as a test subject for the LAMBCHOP doomsday device!\n",
    "\n",
    "\n",
    "\n",
    "To help yourself get to and from your bunk every day, write a function called solution(src, dest) which takes in two parameters: the source square, on which you start, and the destination square, which is where you need to land to solve the puzzle. The function should return an integer representing the smallest number of moves it will take for you to travel from the source square to the destination square using a chess knight's moves (that is, two squares in any direction immediately followed by one square perpendicular to that direction, or vice versa, in an \"L\" shape). Both the source and destination squares will be an integer between 0 and 63, inclusive, and are numbered like the example chessboard below:\n",
    "\n",
    "\n",
    "\n",
    "-------------------------\n",
    "\n",
    "| 0| 1| 2| 3| 4| 5| 6| 7|\n",
    "\n",
    "-------------------------\n",
    "\n",
    "| 8| 9|10|11|12|13|14|15|\n",
    "\n",
    "-------------------------\n",
    "\n",
    "|16|17|18|19|20|21|22|23|\n",
    "\n",
    "-------------------------\n",
    "\n",
    "|24|25|26|27|28|29|30|31|\n",
    "\n",
    "-------------------------\n",
    "\n",
    "|32|33|34|35|36|37|38|39|\n",
    "\n",
    "-------------------------\n",
    "\n",
    "|40|41|42|43|44|45|46|47|\n",
    "\n",
    "-------------------------\n",
    "\n",
    "|48|49|50|51|52|53|54|55|\n",
    "\n",
    "-------------------------\n",
    "\n",
    "|56|57|58|59|60|61|62|63|\n",
    "\n",
    "-------------------------\n",
    "\n",
    "\n",
    "Languages\n",
    "=========\n",
    "\n",
    "\n",
    "To provide a Python solution, edit solution.py\n",
    "To provide a Java solution, edit Solution.java\n",
    "\n",
    "\n",
    "Test cases\n",
    "==========\n",
    "Your code should pass the following test cases.\n",
    "Note that it may also be run against hidden test cases not shown here.\n",
    "\n",
    "\n",
    "-- Python cases -- \n",
    "Input:\n",
    "solution.solution(0, 1)\n",
    "Output:\n",
    "    3\n",
    "\n",
    "\n",
    "Input:\n",
    "solution.solution(19, 36)\n",
    "Output:\n",
    "d\n",
    "    1"
   ]
  }
 ],
 "metadata": {
  "kernelspec": {
   "display_name": "Python 2",
   "language": "python",
   "name": "python2"
  },
  "language_info": {
   "codemirror_mode": {
    "name": "ipython",
    "version": 2
   },
   "file_extension": ".py",
   "mimetype": "text/x-python",
   "name": "python",
   "nbconvert_exporter": "python",
   "pygments_lexer": "ipython2",
   "version": "2.7.13"
  }
 },
 "nbformat": 4,
 "nbformat_minor": 2
}
