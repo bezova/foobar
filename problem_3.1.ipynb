{
 "cells": [
  {
   "cell_type": "markdown",
   "metadata": {},
   "source": []
  },
  {
   "cell_type": "code",
   "execution_count": 62,
   "metadata": {},
   "outputs": [],
   "source": [
    "def brute_force_solution(l):\n",
    "#     print l, '==========='\n",
    "    count = 0\n",
    "#     if len(l)<3: return str(0)\n",
    "    for i in xrange(len(l)-2):\n",
    "        \n",
    "        for j in xrange(i+1, len(l)-1):\n",
    "            if l[j]%l[i]!=0: continue\n",
    "                \n",
    "            for k in xrange(j+1, len(l)):\n",
    "                if l[k]%l[j]==0:\n",
    "                    count += 1\n",
    "                    print l[i], l[j], l[k]\n",
    "                \n",
    "    print '**', str(count) \n",
    "    return str(count)"
   ]
  },
  {
   "cell_type": "code",
   "execution_count": 70,
   "metadata": {},
   "outputs": [],
   "source": [
    "def solution(l):\n",
    "#     print l, '==========='\n",
    "    counts = [0]*len(l)\n",
    "    total = 0\n",
    "#     if len(l)<3: return str(0)\n",
    "    for i in xrange(len(l)-1):\n",
    "        \n",
    "        for j in xrange(i+1, len(l)):\n",
    "            if l[j]%l[i]==0:\n",
    "                #count that this (i, j) pair is magic\n",
    "                counts[j] += 1\n",
    "                #count for (i_previous, i) is how many magic triplets (i_previous, i, j)\n",
    "                total += counts[i]\n",
    "\n",
    "                \n",
    "#     print '**', str(total) \n",
    "    return total"
   ]
  },
  {
   "cell_type": "code",
   "execution_count": 71,
   "metadata": {},
   "outputs": [
    {
     "data": {
      "text/plain": [
       "0"
      ]
     },
     "execution_count": 71,
     "metadata": {},
     "output_type": "execute_result"
    }
   ],
   "source": [
    "#format: [([powers,..], answer), ...]\n",
    "testLists = [\n",
    "    ([1, 2, 3, 4, 5, 6], 3),\n",
    "    ([1, 1, 1], 1),\n",
    "    ([1,2], 0),\n",
    "    ([2, 3, 4, 5, 6, 8, 12], 4),\n",
    "    ([1,2,3,4,3,4,5,6,7,9], 12)\n",
    "]\n",
    "#count errors in test set\n",
    "sum([solution(pws)!=answ for pws, answ in testLists])"
   ]
  },
  {
   "cell_type": "code",
   "execution_count": 72,
   "metadata": {},
   "outputs": [
    {
     "name": "stdout",
     "output_type": "stream",
     "text": [
      "[1, 2, 3, 4, 5, 6] 3 3\n",
      "[1, 1, 1] 1 1\n",
      "[1, 2] 0 0\n",
      "[2, 3, 4, 5, 6, 8, 12] 4 4\n",
      "[1, 2, 3, 4, 3, 4, 5, 6, 7, 9] 12 12\n"
     ]
    }
   ],
   "source": [
    "for l, answ in testLists: \n",
    "    print l, solution(l), answ"
   ]
  },
  {
   "cell_type": "code",
   "execution_count": 30,
   "metadata": {},
   "outputs": [
    {
     "name": "stdout",
     "output_type": "stream",
     "text": [
      "[1, 2, 3, 4, 5, 6] ===========\n",
      "1 2 4\n",
      "1 2 6\n",
      "1 3 6\n",
      "** 3\n",
      "[1, 1, 1] ===========\n",
      "1 1 1\n",
      "** 1\n",
      "[1, 2] ===========\n",
      "[2, 3, 4, 5, 6, 8] ===========\n",
      "2 4 8\n",
      "** 1\n"
     ]
    },
    {
     "data": {
      "text/plain": [
       "[('3', '3'), ('1', '1'), ('0', '0'), ('1', '1')]"
      ]
     },
     "execution_count": 30,
     "metadata": {},
     "output_type": "execute_result"
    }
   ],
   "source": [
    "[(solution(pws), answ) for pws, answ in testLists]"
   ]
  },
  {
   "cell_type": "markdown",
   "metadata": {},
   "source": [
    "## Idea"
   ]
  },
  {
   "cell_type": "markdown",
   "metadata": {},
   "source": [
    "checking magic of (i, j, k) (magic of (i, j) and magic of (j, k)\n",
    "- going through all possible i, j pairs from left to right \n",
    " for i in range(l-1): for j in range(i, l): check (i , j)\n",
    " lets rename (i, j) as (j, k)\n",
    "- when we check magic of pair (j, k) we need to know how many magic (i, j ) pairs are there \n",
    "but we already checked all possible (i, j) before coming to (j, k)\n",
    "so if we counted all magic (i, j) for given j: that will be answere fro majic (j, k)"
   ]
  },
  {
   "cell_type": "markdown",
   "metadata": {},
   "source": [
    "## * description *"
   ]
  },
  {
   "cell_type": "raw",
   "metadata": {},
   "source": [
    "Find the Access Codes\n",
    "=====================\n",
    "\n",
    "In order to destroy Commander Lambda's LAMBCHOP doomsday device, you'll need access to it. But the only door leading to the LAMBCHOP chamber is secured with a unique lock system whose number of passcodes changes daily. Commander Lambda gets a report every day that includes the locks' access codes, but only she knows how to figure out which of several lists contains the access codes. You need to find a way to determine which list contains the access codes once you're ready to go in. \n",
    "\n",
    "Fortunately, now that you're Commander Lambda's personal assistant, she's confided to you that she made all the access codes \"lucky triples\" in order to help her better find them in the lists. A \"lucky triple\" is a tuple (x, y, z) where x divides y and y divides z, such as (1, 2, 4). With that information, you can figure out which list contains the number of access codes that matches the number of locks on the door when you're ready to go in (for example, if there's 5 passcodes, you'd need to find a list with 5 \"lucky triple\" access codes).\n",
    "\n",
    "Write a function solution(l) that takes a list of positive integers l and counts the number of \"lucky triples\" of (li, lj, lk) where the list indices meet the requirement i < j < k.  The length of l is between 2 and 2000 inclusive.  The elements of l are between 1 and 999999 inclusive.  The answer fits within a signed 32-bit integer. Some of the lists are purposely generated without any access codes to throw off spies, so if no triples are found, return 0. \n",
    "\n",
    "For example, [1, 2, 3, 4, 5, 6] has the triples: [1, 2, 4], [1, 2, 6], [1, 3, 6], making the answer 3 total.\n",
    "\n",
    "Languages\n",
    "=========\n",
    "\n",
    "To provide a Java solution, edit Solution.java\n",
    "To provide a Python solution, edit solution.py\n",
    "\n",
    "Test cases\n",
    "==========\n",
    "Your code should pass the following test cases.\n",
    "Note that it may also be run against hidden test cases not shown here.\n",
    "\n",
    "-- Java cases -- \n",
    "Input:\n",
    "Solution.solution([1, 1, 1])\n",
    "Output:\n",
    "    1\n",
    "\n",
    "Input:\n",
    "Solution.solution([1, 2, 3, 4, 5, 6])\n",
    "Output:\n",
    "    3\n",
    "\n",
    "-- Python cases -- \n",
    "Input:\n",
    "solution.solution([1, 2, 3, 4, 5, 6])\n",
    "Output:\n",
    "    3\n",
    "\n",
    "Input:\n",
    "solution.solution([1, 1, 1])\n",
    "Output:\n",
    "    1\n"
   ]
  },
  {
   "cell_type": "code",
   "execution_count": null,
   "metadata": {},
   "outputs": [],
   "source": []
  }
 ],
 "metadata": {
  "kernelspec": {
   "display_name": "Python 2",
   "language": "python",
   "name": "python2"
  },
  "language_info": {
   "codemirror_mode": {
    "name": "ipython",
    "version": 2
   },
   "file_extension": ".py",
   "mimetype": "text/x-python",
   "name": "python",
   "nbconvert_exporter": "python",
   "pygments_lexer": "ipython2",
   "version": "2.7.13"
  }
 },
 "nbformat": 4,
 "nbformat_minor": 2
}
